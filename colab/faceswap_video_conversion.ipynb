{
 "cells": [
  {
   "cell_type": "markdown",
   "metadata": {},
   "source": [
    "<a id='1'></a>\n",
    "# Импортируйте пакеты"
   ]
  },
  {
   "cell_type": "code",
   "execution_count": null,
   "metadata": {},
   "outputs": [],
   "source": [
    "import tensorflow.python.keras.backend as K"
   ]
  },
  {
   "cell_type": "markdown",
   "metadata": {},
   "source": [
    "\n",
    "<a id='4'></a>\n",
    "# Конфигурация модели"
   ]
  },
  {
   "cell_type": "code",
   "execution_count": null,
   "metadata": {},
   "outputs": [],
   "source": [
    "K.set_learning_phase(0)"
   ]
  },
  {
   "cell_type": "code",
   "execution_count": null,
   "metadata": {},
   "outputs": [],
   "source": [
    "# Input/Output resolution\n",
    "RESOLUTION = 64  # 64x64, 128x128, 256x256\n",
    "assert (RESOLUTION % 64) == 0, \"RESOLUTION should be 64, 128, 256\""
   ]
  },
  {
   "cell_type": "code",
   "execution_count": null,
   "metadata": {},
   "outputs": [],
   "source": [
    "# Architecture configuration\n",
    "arch_config = {\n",
    "    \"IMAGE_SHAPE\": (RESOLUTION, RESOLUTION, 3),\n",
    "    \"use_self_attn\": True,\n",
    "    \"norm\": \"instancenorm\",\n",
    "    \"model_capacity\": \"standard\"\n",
    "}"
   ]
  },
  {
   "cell_type": "markdown",
   "metadata": {},
   "source": [
    "<a id='5'></a>\n",
    "\n",
    "# Определение моделей"
   ]
  },
  {
   "cell_type": "code",
   "execution_count": null,
   "metadata": {},
   "outputs": [],
   "source": [
    "from networks.faceswap_model import FaceswapModel"
   ]
  },
  {
   "cell_type": "code",
   "execution_count": null,
   "metadata": {
    "scrolled": true
   },
   "outputs": [],
   "source": [
    "model = FaceswapModel(**arch_config)"
   ]
  },
  {
   "cell_type": "markdown",
   "metadata": {},
   "source": [
    "<a id='6'></a>\n",
    "# Загрузка весов моделей"
   ]
  },
  {
   "cell_type": "code",
   "execution_count": null,
   "metadata": {},
   "outputs": [],
   "source": [
    "model.load_weights(path=\"./models\")"
   ]
  },
  {
   "cell_type": "markdown",
   "metadata": {},
   "source": [
    "<a id='12'></a>\n",
    "# Конвертация видео"
   ]
  },
  {
   "cell_type": "code",
   "execution_count": null,
   "metadata": {},
   "outputs": [],
   "source": [
    "from converter import VideoConverter\n",
    "from detector.face_detector import MTCNNFaceDetector\n"
   ]
  },
  {
   "cell_type": "code",
   "execution_count": null,
   "metadata": {},
   "outputs": [],
   "source": [
    "mtcnn_weights_dir = \"./mtcnn_weights/\"\n",
    "\n",
    "fd = MTCNNFaceDetector(sess=K.get_session(), model_path=mtcnn_weights_dir)\n",
    "vc = VideoConverter()\n",
    "\n",
    "vc.set_face_detector(fd)\n",
    "vc.set_gan_model(model)"
   ]
  },
  {
   "cell_type": "markdown",
   "metadata": {
    "pycharm": {
     "name": "#%% md\n"
    }
   },
   "source": [
    "### Конфигурация преобразования видео\n",
    "\n",
    "\n",
    "- `use_smoothed_bbox`: \n",
    "    - Boolean. Следует ли включать сглаженный bbox.\n",
    "- `use_kalman_filter`: \n",
    "    - Boolean. Следует ли включать фильтр Калмана.\n",
    "- `use_auto_downscaling`:\n",
    "    - Boolean. Следует ли включать автоматическое уменьшение масштаба при распознавании лиц (для предотвращения ошибки ООМ).\n",
    "- `bbox_moving_avg_coef`: \n",
    "    - Float point в диапазоне [0.0, 1.0]. Коэффициент сглаживания, используемый, когда значение use_kalman_filter равно False.\n",
    "- `min_face_area`:\n",
    "    - int x int. Минимальный размер лица. Обнаруженные лица размером меньше min_face_area преобразовываться не будут.\n",
    "- `IMAGE_SHAPE`:\n",
    "    - Разрешение ввода/вывода модели GAN.\n",
    "- `kf_noise_coef`:\n",
    "    - Float point. Увеличьте в 10 раз, если отслеживание происходит медленно. Снизьте на 1/10 раза, если отслеживание работает нормально, но возникает дрожание.\n",
    "- `use_color_correction`: \n",
    "    - Строка со значением \"adain\", \"adain_xyz\", \"hist_match\", или \"none\". Применяемый метод цветокоррекции.\n",
    "- `detec_threshold`: \n",
    "    - Float point в диапазоне [0.0, 1.0]. Уменьшите его значение, если лица пропущены. Увеличьте его значение, чтобы уменьшить количество ложных срабатываний.\n",
    "- `roi_coverage`: \n",
    "    - Float point в диапазоне [0.0, 1.0). Центральная область входных изображений, подлежащих обрезке (Рекомендуемый диапазон: 0.85 ~ 0.95)\n",
    "- `enhance`: \n",
    "    - Float point. Коэффициент усиления контраста в области альфа-маски (Рекомендуемый диапазон: 0. ~ 0.4)\n",
    "- `output_type`: \n",
    "    - Формат компоновки выходного видео: 1. [ result ], 2. [ source | result ], 3. [ source | result | mask ]\n",
    "- `direction`: \n",
    "    - Строка со значением \"AtoB\" или \"BtoA\". Направление трансформации лица."
   ]
  },
  {
   "cell_type": "code",
   "execution_count": null,
   "metadata": {
    "pycharm": {
     "name": "#%%\n"
    }
   },
   "outputs": [],
   "source": [
    "options = {\n",
    "    # ===== Fixed =====\n",
    "    \"use_smoothed_bbox\": True,\n",
    "    \"use_kalman_filter\": True,\n",
    "    \"use_auto_downscaling\": False,\n",
    "    \"bbox_moving_avg_coef\": 0.65,\n",
    "    \"min_face_area\": 35 * 35,\n",
    "    \"IMAGE_SHAPE\": model.IMAGE_SHAPE,\n",
    "    # ===== Tunable =====\n",
    "    \"kf_noise_coef\": 3e-3,\n",
    "    \"use_color_correction\": \"hist_match\",\n",
    "    \"detec_threshold\": 0.7,\n",
    "    \"roi_coverage\": 0.9,\n",
    "    \"enhance\": 0.,\n",
    "    \"output_type\": 3,\n",
    "    \"direction\": \"AtoB\",\n",
    "}"
   ]
  },
  {
   "cell_type": "markdown",
   "metadata": {
    "pycharm": {
     "name": "#%% md\n"
    }
   },
   "source": [
    "# Начать преобразование видео"
   ]
  },
  {
   "cell_type": "markdown",
   "metadata": {},
   "source": [
    "- `input_fn`: \n",
    "    - String. Путь к входному видео.\n",
    "- `output_fn`: \n",
    "    - String. Путь к выходному видео.\n",
    "- `duration`: \n",
    "    - `None` или неотрицательный кортеж с плавающей точкой: (start_sec, end_sec). Продолжительность входного видео, подлежащего преобразованию, например, установка \"duration=(5, 7,5)` выводит видеоклип продолжительностью 2,5 секунды, соответствующий 5с~7,5с входного видео.\n"
   ]
  },
  {
   "cell_type": "code",
   "execution_count": null,
   "metadata": {},
   "outputs": [],
   "source": [
    "input_fn = \"INPUT_VIDEO.mp4\"\n",
    "output_fn = \"OUTPUT_VIDEO.mp4\"\n",
    "duration = None"
   ]
  },
  {
   "cell_type": "code",
   "execution_count": null,
   "metadata": {
    "pycharm": {
     "name": "#%%\n"
    }
   },
   "outputs": [],
   "source": [
    "vc.convert(input_fn, output_fn, options, duration)"
   ]
  }
 ],
 "metadata": {
  "kernelspec": {
   "display_name": "Python 3 (ipykernel)",
   "language": "python",
   "name": "python3"
  },
  "language_info": {
   "codemirror_mode": {
    "name": "ipython",
    "version": 3
   },
   "file_extension": ".py",
   "mimetype": "text/x-python",
   "name": "python",
   "nbconvert_exporter": "python",
   "pygments_lexer": "ipython3",
   "version": "3.9.7"
  }
 },
 "nbformat": 4,
 "nbformat_minor": 2
}