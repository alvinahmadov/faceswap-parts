{
 "cells": [
  {
   "cell_type": "markdown",
   "metadata": {},
   "source": [
    "# Install face-alignment package\n",
    "Environment: Google colab"
   ]
  },
  {
   "cell_type": "code",
   "execution_count": null,
   "metadata": {
    "colab": {
     "autoexec": {
      "startup": false,
      "wait_interval": 0
     },
     "base_uri": "https://localhost:8080/",
     "height": 139
    },
    "colab_type": "code",
    "executionInfo": {
     "elapsed": 46673,
     "status": "ok",
     "timestamp": 1529151506883,
     "user": {
      "displayName": "Lu SA",
      "photoUrl": "https://lh3.googleusercontent.com/a/default-user=s128",
      "userId": "109275333798683015269"
     },
     "user_tz": -480
    },
    "id": "NK7_yFjNV-wY",
    "outputId": "091fda26-6e40-4c9d-fd39-2d48cdd7d14f"
   },
   "outputs": [],
   "source": [
    "!pip install --upgrade torch"
   ]
  },
  {
   "cell_type": "code",
   "execution_count": null,
   "metadata": {
    "colab": {
     "autoexec": {
      "startup": false,
      "wait_interval": 0
     },
     "base_uri": "https://localhost:8080/",
     "height": 204
    },
    "colab_type": "code",
    "executionInfo": {
     "elapsed": 6783,
     "status": "ok",
     "timestamp": 1529151513699,
     "user": {
      "displayName": "Lu SA",
      "photoUrl": "https://lh3.googleusercontent.com/a/default-user=s128",
      "userId": "109275333798683015269"
     },
     "user_tz": -480
    },
    "id": "n79ip5KbWH0s",
    "outputId": "34fd0b04-52d3-45a9-a4e8-feb48013d5b2"
   },
   "outputs": [],
   "source": [
    "%mkdir face-alignment\n",
    "%cd face-alignment\n",
    "!git init .\n",
    "!git remote add origin https://github.com/1adrianb/face-alignment.git\n",
    "!git fetch origin\n",
    "!git checkout master\n",
    "\n",
    "%cd ../\n"
   ]
  },
  {
   "cell_type": "markdown",
   "metadata": {},
   "source": [
    "#!apt update\n",
    "#!apt install -y cmake"
   ]
  },
  {
   "cell_type": "markdown",
   "metadata": {
    "pycharm": {
     "name": "#%% md\n"
    }
   },
   "source": [
    "**Install dlib (CUDA enabled or CPU version)**\n",
    "\n",
    "CUDA enabled dlib\n",
    "\n",
    "dlib w/o CUDA\n",
    "\n",
    "# Generate binary masks\n",
    "\n",
    "```bash\n",
    "    Inputs:\n",
    "        Images from ./faceA and ./faceB\n",
    "    Outputs:\n",
    "        Eyes binary masks, which are saved to ./binary_masks/faceA_eyes and ./binary_masks/faceB_eyes respectively\n",
    "```"
   ]
  },
  {
   "cell_type": "code",
   "execution_count": null,
   "metadata": {
    "colab": {
     "autoexec": {
      "startup": false,
      "wait_interval": 0
     }
    },
    "colab_type": "code",
    "id": "34x3mp7wb2bR"
   },
   "outputs": [],
   "source": [
    "from glob import glob\n",
    "from pathlib import PurePath, Path\n",
    "import cv2\n",
    "import numpy as np\n",
    "import matplotlib as plt\n",
    "import face_alignment"
   ]
  },
  {
   "cell_type": "code",
   "execution_count": null,
   "metadata": {
    "colab": {
     "autoexec": {
      "startup": false,
      "wait_interval": 0
     }
    },
    "colab_type": "code",
    "id": "17GYV20FXz78"
   },
   "outputs": [],
   "source": [
    "\n",
    "img_dir_src = './face_src/rgb'  # source face\n",
    "img_dir_dst = './face_dst/rgb'  # target face\n",
    "img_dir_src_bm_eyes = \"./face_src/binary_mask/faceA_eyes\"\n",
    "img_dir_dst_bm_eyes = \"./face_dst/binary_mask/faceB_eyes\"\n"
   ]
  },
  {
   "cell_type": "code",
   "execution_count": null,
   "metadata": {
    "pycharm": {
     "name": "#%%\n"
    }
   },
   "outputs": [],
   "source": [
    "fns_face_src = glob(f\"{img_dir_src}/*.*\")\n",
    "fns_face_dst = glob(f\"{img_dir_dst}/*.*\")"
   ]
  },
  {
   "cell_type": "code",
   "execution_count": null,
   "metadata": {
    "colab": {
     "autoexec": {
      "startup": false,
      "wait_interval": 0
     },
     "base_uri": "https://localhost:8080/",
     "height": 34
    },
    "colab_type": "code",
    "executionInfo": {
     "elapsed": 11767,
     "status": "ok",
     "timestamp": 1529152245581,
     "user": {
      "displayName": "Lu SA",
      "photoUrl": "https://lh3.googleusercontent.com/a/default-user=s128",
      "userId": "109275333798683015269"
     },
     "user_tz": -480
    },
    "id": "fwD2DVvQcEMw",
    "outputId": "698867a7-2b85-4703-cdd2-fa7531bc6b52"
   },
   "outputs": [],
   "source": [
    "fa = face_alignment.FaceAlignment(face_alignment.LandmarksType._2D, enable_cuda=True, flip_input=False)"
   ]
  },
  {
   "cell_type": "code",
   "execution_count": null,
   "metadata": {
    "colab": {
     "autoexec": {
      "startup": false,
      "wait_interval": 0
     }
    },
    "colab_type": "code",
    "id": "cYCCJK1ehpNi"
   },
   "outputs": [],
   "source": [
    "Path(f\"binary_mask/faceA_eyes\").mkdir(parents=True, exist_ok=True)\n",
    "Path(f\"binary_mask/faceB_eyes\").mkdir(parents=True, exist_ok=True)"
   ]
  },
  {
   "cell_type": "code",
   "execution_count": null,
   "metadata": {
    "colab": {
     "autoexec": {
      "startup": false,
      "wait_interval": 0
     },
     "base_uri": "https://localhost:8080/",
     "height": 2397
    },
    "colab_type": "code",
    "executionInfo": {
     "elapsed": 121564,
     "status": "ok",
     "timestamp": 1529152370522,
     "user": {
      "displayName": "Lu SA",
      "photoUrl": "https://lh3.googleusercontent.com/a/default-user=s128",
      "userId": "109275333798683015269"
     },
     "user_tz": -480
    },
    "id": "iMZHXBmzcEUY",
    "outputId": "2dc0737f-6990-40db-adb9-c5e2baf49ae9"
   },
   "outputs": [],
   "source": [
    "fns_face_not_detected = []\n",
    "\n",
    "for idx, fns in enumerate([fns_face_src, fns_face_dst]):\n",
    "    if idx == 0:\n",
    "        save_path = img_dir_src_bm_eyes\n",
    "    elif idx == 1:\n",
    "        save_path = img_dir_dst_bm_eyes\n",
    "\n",
    "        # create binary mask for each training image\n",
    "    for fn in fns:\n",
    "        raw_fn = PurePath(fn).parts[-1]\n",
    "\n",
    "        x = plt.imread(fn)\n",
    "        x = cv2.resize(x, (256, 256))\n",
    "        preds = fa.get_landmarks(x)\n",
    "\n",
    "        if preds is not None:\n",
    "            preds = preds[0]\n",
    "            mask = np.zeros_like(x)\n",
    "\n",
    "            # Draw right eye binary mask\n",
    "            pnts_right = [(preds[i, 0], preds[i, 1]) for i in range(36, 42)]\n",
    "            hull = cv2.convexHull(np.array(pnts_right)).astype(np.int32)\n",
    "            mask = cv2.drawContours(mask, [hull], 0, (255, 255, 255), -1)\n",
    "\n",
    "            # Draw left eye binary mask\n",
    "            pnts_left = [(preds[i, 0], preds[i, 1]) for i in range(42, 48)]\n",
    "            hull = cv2.convexHull(np.array(pnts_left)).astype(np.int32)\n",
    "            mask = cv2.drawContours(mask, [hull], 0, (255, 255, 255), -1)\n",
    "\n",
    "            # Draw mouth binary mask\n",
    "            #pnts_mouth = [(preds[i,0],preds[i,1]) for i in range(48,60)]\n",
    "            #hull = cv2.convexHull(np.array(pnts_mouth)).astype(np.int32)\n",
    "            #mask = cv2.drawContours(mask,[hull],0,(255,255,255),-1)\n",
    "\n",
    "            mask = cv2.dilate(mask, np.ones((13, 13), np.uint8), iterations=1)\n",
    "            mask = cv2.GaussianBlur(mask, (7, 7), 0)\n",
    "\n",
    "        else:\n",
    "            mask = np.zeros_like(x)\n",
    "            print(f\"No faces were detected in image '{fn}''\")\n",
    "            fns_face_not_detected.append(fn)\n",
    "\n",
    "        plt.imsave(fname=f\"{save_path}/{raw_fn}\", arr=mask, format=\"jpg\")"
   ]
  },
  {
   "cell_type": "code",
   "execution_count": null,
   "metadata": {
    "colab": {
     "autoexec": {
      "startup": false,
      "wait_interval": 0
     },
     "base_uri": "https://localhost:8080/",
     "height": 51
    },
    "colab_type": "code",
    "executionInfo": {
     "elapsed": 559,
     "status": "ok",
     "timestamp": 1529152371122,
     "user": {
      "displayName": "Lu SA",
      "photoUrl": "https://lh3.googleusercontent.com/a/default-user=s128",
      "userId": "109275333798683015269"
     },
     "user_tz": -480
    },
    "id": "uXgooPybq7PG",
    "outputId": "362246e2-9b58-487c-cb4e-99ce69136eda"
   },
   "outputs": [],
   "source": [
    "num_faceA = len(glob(img_dir_src + \"/*.*\"))\n",
    "num_faceB = len(glob(img_dir_dst + \"/*.*\"))\n",
    "\n",
    "print(\"Nuber of processed images: \" + str(num_faceA + num_faceB))\n",
    "print(\"Number of image(s) with no face detected: \" + str(len(fns_face_not_detected)))"
   ]
  },
  {
   "cell_type": "markdown",
   "metadata": {
    "colab_type": "text",
    "id": "uRKzF42Wy0Ba"
   },
   "source": [
    "# Randomly diaplay a face image and its result binary mask"
   ]
  },
  {
   "cell_type": "code",
   "execution_count": null,
   "metadata": {
    "colab": {
     "autoexec": {
      "startup": false,
      "wait_interval": 0
     },
     "base_uri": "https://localhost:8080/",
     "height": 316
    },
    "colab_type": "code",
    "executionInfo": {
     "elapsed": 1080,
     "status": "ok",
     "timestamp": 1529139911130,
     "user": {
      "displayName": "Lu SA",
      "photoUrl": "https://lh3.googleusercontent.com/a/default-user=s128",
      "userId": "109275333798683015269"
     },
     "user_tz": -480
    },
    "id": "Ja4aOHNay0HH",
    "outputId": "c6e1b3d4-d427-4267-a33b-efc8882373e3"
   },
   "outputs": [],
   "source": [
    "face = np.random.choice([\"A\", \"B\"])\n",
    "\n",
    "dir_face = img_dir_src if face == \"A\" else img_dir_dst\n",
    "fns_face = fns_face_src if face == \"A\" else fns_face_dst\n",
    "num_face = len(glob(dir_face + \"/*.*\"))\n",
    "rand_idx = np.random.randint(num_face)\n",
    "rand_fn = fns_face[rand_idx]\n",
    "raw_fn = PurePath(rand_fn).parts[-1]\n",
    "mask_fn = f\"{img_dir_src_bm_eyes}/{raw_fn}\" if face == \"A\" else f\"{img_dir_dst_bm_eyes}/{raw_fn}\"\n",
    "im = plt.imread(rand_fn)\n",
    "mask = plt.imread(mask_fn)\n",
    "\n",
    "if rand_fn in fns_face_not_detected:\n",
    "    print(\"========== На этом изображении не было обнаружено никаких лиц! ==========\")\n",
    "\n",
    "fig = plt.figure(figsize=(15, 6))\n",
    "plt.subplot(1, 3, 1)\n",
    "plt.grid('off')\n",
    "plt.imshow(im)\n",
    "plt.subplot(1, 3, 2)\n",
    "plt.grid('off')\n",
    "plt.imshow(mask)\n",
    "plt.subplot(1, 3, 3)\n",
    "plt.grid('off')\n",
    "plt.imshow((mask / 255 * im).astype(np.uint8))\n",
    "\n",
    "#fa.get_landmarks(x)"
   ]
  },
  {
   "cell_type": "markdown",
   "metadata": {
    "colab_type": "text",
    "id": "X6c22xxGsVQR"
   },
   "source": [
    "# Случайно отображать изображения, на котором не обнаружено лица."
   ]
  },
  {
   "cell_type": "code",
   "execution_count": null,
   "metadata": {
    "colab": {
     "autoexec": {
      "startup": false,
      "wait_interval": 0
     },
     "base_uri": "https://localhost:8080/",
     "height": 287
    },
    "colab_type": "code",
    "executionInfo": {
     "elapsed": 697,
     "status": "ok",
     "timestamp": 1529139782680,
     "user": {
      "displayName": "Lu SA",
      "photoUrl": "https://lh3.googleusercontent.com/a/default-user=s128",
      "userId": "109275333798683015269"
     },
     "user_tz": -480
    },
    "id": "aAgOLJ_WowlK",
    "outputId": "00138071-ab9e-4c91-aeb6-67d253c81cf5",
    "pycharm": {
     "name": "#%%\n"
    }
   },
   "outputs": [],
   "source": [
    "num_no_face_img = len(fns_face_not_detected)\n",
    "rand_idx = np.random.randint(num_no_face_img)\n",
    "x = plt.imread(fns_face_not_detected[rand_idx])\n",
    "#x = cv2.resize(x, (256,256))\n",
    "\n",
    "plt.grid('off')\n",
    "plt.imshow(x)\n",
    "\n",
    "#fa.get_landmarks(x)"
   ]
  }
 ],
 "metadata": {
  "accelerator": "GPU",
  "colab": {
   "collapsed_sections": [],
   "default_view": {},
   "name": "make_binary_masks.ipynb",
   "provenance": [],
   "version": "0.3.2",
   "views": {}
  },
  "kernelspec": {
   "display_name": "Python 3 (ipykernel)",
   "language": "python",
   "name": "python3"
  },
  "language_info": {
   "codemirror_mode": {
    "name": "ipython",
    "version": 3
   },
   "file_extension": ".py",
   "mimetype": "text/x-python",
   "name": "python",
   "nbconvert_exporter": "python",
   "pygments_lexer": "ipython3",
   "version": "3.9.7"
  }
 },
 "nbformat": 4,
 "nbformat_minor": 1
}