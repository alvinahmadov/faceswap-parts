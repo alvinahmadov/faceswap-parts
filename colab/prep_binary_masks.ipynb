{
 "cells": [
  {
   "cell_type": "markdown",
   "metadata": {},
   "source": [
    "# Устанавливаем библиотеки"
   ]
  },
  {
   "cell_type": "code",
   "execution_count": null,
   "metadata": {
    "colab": {
     "autoexec": {
      "startup": false,
      "wait_interval": 0
     },
     "base_uri": "https://localhost:8080/",
     "height": 139
    },
    "colab_type": "code",
    "executionInfo": {
     "elapsed": 46673,
     "status": "ok",
     "timestamp": 1529151506883,
     "user": {
      "displayName": "Lu SA",
      "photoUrl": "https://lh3.googleusercontent.com/a/default-user=s128",
      "userId": "109275333798683015269"
     },
     "user_tz": -480
    },
    "id": "NK7_yFjNV-wY",
    "outputId": "091fda26-6e40-4c9d-fd39-2d48cdd7d14f"
   },
   "outputs": [],
   "source": [
    "!pip install torch\n",
    "!pip install dlib\n",
    "!pip install face-alignment"
   ]
  },
  {
   "cell_type": "code",
   "execution_count": null,
   "metadata": {
    "pycharm": {
     "name": "#%%\n"
    }
   },
   "outputs": [],
   "source": [
    "try:\n",
    "    from google.colab import drive\n",
    "    drive.mount('/content/drive')\n",
    "except ImportError:\n",
    "    drive = None\n",
    "    print(\"You must run the code in colab\")\n",
    "    pass"
   ]
  },
  {
   "cell_type": "code",
   "execution_count": null,
   "metadata": {
    "colab": {
     "autoexec": {
      "startup": false,
      "wait_interval": 0
     }
    },
    "colab_type": "code",
    "id": "34x3mp7wb2bR"
   },
   "outputs": [],
   "source": [
    "from collections import OrderedDict\n",
    "\n",
    "import face_alignment\n",
    "import cv2\n",
    "import numpy as np\n",
    "from glob import glob\n",
    "from pathlib import PurePath, Path\n",
    "from matplotlib import pyplot as plt\n",
    "\n",
    "from converter.config import SegmentationType"
   ]
  },
  {
   "cell_type": "markdown",
   "metadata": {
    "pycharm": {
     "name": "#%% md\n"
    }
   },
   "source": [
    "Устанавливаем глобальные константы"
   ]
  },
  {
   "cell_type": "code",
   "execution_count": null,
   "metadata": {
    "colab": {
     "autoexec": {
      "startup": false,
      "wait_interval": 0
     }
    },
    "colab_type": "code",
    "id": "17GYV20FXz78"
   },
   "outputs": [],
   "source": [
    "DIR_TRAIN = \"/content/drive/MyDrive/faceswap_train\"\n",
    "DIR_FACE_A = f\"{DIR_TRAIN}/face_src/rgb\"\n",
    "DIR_FACE_B = f\"{DIR_TRAIN}/face_dst/rgb\"\n",
    "DIR_BM_FACE_A_EYES = f\"{DIR_TRAIN}/binary_masks/faceA_eyes\"\n",
    "DIR_BM_FACE_B_EYES = f\"{DIR_TRAIN}/binary_masks/faceB_eyes\"\n"
   ]
  },
  {
   "cell_type": "code",
   "execution_count": null,
   "metadata": {
    "pycharm": {
     "name": "#%%\n"
    }
   },
   "outputs": [],
   "source": [
    "FNS_FACE_A = glob(f\"{DIR_FACE_A}/*.*\")\n",
    "FNS_FACE_B = glob(f\"{DIR_FACE_B}/*.*\")"
   ]
  },
  {
   "cell_type": "markdown",
   "metadata": {
    "pycharm": {
     "name": "#%% md\n"
    }
   },
   "source": [
    "Определяем нужные пределы для частей лица"
   ]
  },
  {
   "cell_type": "code",
   "execution_count": null,
   "metadata": {
    "pycharm": {
     "name": "#%%\n"
    }
   },
   "outputs": [],
   "source": [
    "# define a dictionary that maps the indexes of the facial\n",
    "# landmarks to specific face regions\n",
    "FACIAL_LANDMARKS_IDXS = OrderedDict([\n",
    "    (\"jaw\", (0, 17)),\n",
    "    (\"eyebrow_r\", (17, 22)),\n",
    "    (\"eyebrow_l\", (22, 27)),\n",
    "    (\"nose\", (27, 35)),\n",
    "    (\"eye_r\", (36, 42)),\n",
    "    (\"eye_l\", (42, 48)),\n",
    "    (\"mouth\", (48, 68))\n",
    "])"
   ]
  },
  {
   "cell_type": "code",
   "execution_count": null,
   "metadata": {
    "colab": {
     "autoexec": {
      "startup": false,
      "wait_interval": 0
     },
     "base_uri": "https://localhost:8080/",
     "height": 34
    },
    "colab_type": "code",
    "executionInfo": {
     "elapsed": 11767,
     "status": "ok",
     "timestamp": 1529152245581,
     "user": {
      "displayName": "Lu SA",
      "photoUrl": "https://lh3.googleusercontent.com/a/default-user=s128",
      "userId": "109275333798683015269"
     },
     "user_tz": -480
    },
    "id": "fwD2DVvQcEMw",
    "outputId": "698867a7-2b85-4703-cdd2-fa7531bc6b52"
   },
   "outputs": [],
   "source": [
    "fa = face_alignment.FaceAlignment(face_alignment.LandmarksType._2D, device='cuda', flip_input=False)"
   ]
  },
  {
   "cell_type": "markdown",
   "metadata": {
    "pycharm": {
     "name": "#%% md\n"
    }
   },
   "source": [
    "Очищаем папки и заново создаем"
   ]
  },
  {
   "cell_type": "code",
   "execution_count": null,
   "metadata": {
    "colab": {
     "autoexec": {
      "startup": false,
      "wait_interval": 0
     }
    },
    "colab_type": "code",
    "id": "cYCCJK1ehpNi"
   },
   "outputs": [],
   "source": [
    "% rm -rf / content / drive / MyDrive / faceswap_train / binary_masks / faceA_eyes\n",
    "% rm -rf / content / drive / MyDrive / faceswap_train / binary_masks / faceB_eyes\n",
    "\n",
    "Path(DIR_BM_FACE_A_EYES).mkdir(parents=True, exist_ok=True)\n",
    "Path(DIR_BM_FACE_B_EYES).mkdir(parents=True, exist_ok=True)"
   ]
  },
  {
   "cell_type": "code",
   "execution_count": null,
   "metadata": {
    "pycharm": {
     "name": "#%%\n"
    }
   },
   "outputs": [],
   "source": [
    "eye_r_idx = FACIAL_LANDMARKS_IDXS['eye_r']\n",
    "eye_l_idx = FACIAL_LANDMARKS_IDXS['eye_l']\n",
    "nose_idx = FACIAL_LANDMARKS_IDXS['nose']\n",
    "mouth_idx = FACIAL_LANDMARKS_IDXS['mouth']\n",
    "\n",
    "def lm_range(t: tuple):\n",
    "    return range(t[0], t[1])\n",
    "\n",
    "\n",
    "def draw_mask(predictions, mask, pnts):\n",
    "    pnts = [(predictions[i, 0], predictions[i, 1])\n",
    "            for i in range(pnts[0], pnts[1])]\n",
    "    hull = cv2.convexHull(np.array(pnts)).astype(np.int32)\n",
    "    return cv2.drawContours(mask, [hull], 0, (255, 255, 255), -1)\n",
    "\n",
    "\n",
    "def face_segmentation(image, preds, option = SegmentationType.ALL):\n",
    "    mask = np.zeros_like(image)\n",
    "    if option == SegmentationType.EYES_ONLY:\n",
    "        mask = draw_mask(preds, mask, eye_r_idx)\n",
    "        mask = draw_mask(preds, mask, eye_l_idx)\n",
    "        pass\n",
    "    elif option == SegmentationType.NOSE_ONLY:\n",
    "        mask = draw_mask(preds, mask, nose_idx)\n",
    "        pass\n",
    "    elif option == SegmentationType.MOUTH_ONLY:\n",
    "        mask = draw_mask(preds, mask, mouth_idx)\n",
    "        pass\n",
    "    elif option == SegmentationType.ALL:\n",
    "        mask = draw_mask(preds, mask, eye_r_idx)  # Draw right eye binary mask\n",
    "        mask = draw_mask(preds, mask, eye_l_idx)  # Draw left eye binary mask\n",
    "        mask = draw_mask(preds, mask, nose_idx)  # Draw nose binary mask\n",
    "        mask = draw_mask(preds, mask, mouth_idx)  # Draw mouth binary mask\n",
    "        pass\n",
    "    mask = cv2.dilate(mask, np.ones((13, 13), np.uint8), iterations=1)\n",
    "    mask = cv2.GaussianBlur(mask, (7, 7), 0)\n",
    "\n",
    "    return mask"
   ]
  },
  {
   "cell_type": "code",
   "execution_count": null,
   "metadata": {
    "colab": {
     "autoexec": {
      "startup": false,
      "wait_interval": 0
     },
     "base_uri": "https://localhost:8080/",
     "height": 2397
    },
    "colab_type": "code",
    "executionInfo": {
     "elapsed": 121564,
     "status": "ok",
     "timestamp": 1529152370522,
     "user": {
      "displayName": "Lu SA",
      "photoUrl": "https://lh3.googleusercontent.com/a/default-user=s128",
      "userId": "109275333798683015269"
     },
     "user_tz": -480
    },
    "id": "iMZHXBmzcEUY",
    "outputId": "2dc0737f-6990-40db-adb9-c5e2baf49ae9"
   },
   "outputs": [],
   "source": [
    "seg_type = SegmentationType.ALL\n",
    "fns_face_not_detected = []"
   ]
  },
  {
   "cell_type": "code",
   "execution_count": null,
   "metadata": {
    "pycharm": {
     "name": "#%%\n"
    }
   },
   "outputs": [],
   "source": [
    "for idx, fns in enumerate([FNS_FACE_A, FNS_FACE_B]):\n",
    "    save_path = DIR_BM_FACE_A_EYES if idx == 0 else DIR_BM_FACE_B_EYES\n",
    "\n",
    "    # create binary mask for each training image\n",
    "    for fn in fns:\n",
    "        raw_fn = PurePath(fn).parts[-1]\n",
    "\n",
    "        x = cv2.imread(fn)\n",
    "        x = cv2.resize(x, (256, 256))\n",
    "        preds = fa.get_landmarks(x)\n",
    "        mask = np.zeros_like(x)\n",
    "\n",
    "        if preds is not None:\n",
    "            preds = preds[0]\n",
    "            mask = face_segmentation(seg_type, preds)\n",
    "            pass\n",
    "        else:\n",
    "            print(f\"No faces were detected in image '{fn}'\")\n",
    "            fns_face_not_detected.append(fn)\n",
    "            pass\n",
    "\n",
    "        plt.imsave(fname=f\"{save_path}/{raw_fn}\", arr=mask, format=\"png\")\n",
    "        pass"
   ]
  },
  {
   "cell_type": "code",
   "execution_count": null,
   "metadata": {
    "colab": {
     "autoexec": {
      "startup": false,
      "wait_interval": 0
     },
     "base_uri": "https://localhost:8080/",
     "height": 51
    },
    "colab_type": "code",
    "executionInfo": {
     "elapsed": 559,
     "status": "ok",
     "timestamp": 1529152371122,
     "user": {
      "displayName": "Lu SA",
      "photoUrl": "https://lh3.googleusercontent.com/a/default-user=s128",
      "userId": "109275333798683015269"
     },
     "user_tz": -480
    },
    "id": "uXgooPybq7PG",
    "outputId": "362246e2-9b58-487c-cb4e-99ce69136eda"
   },
   "outputs": [],
   "source": [
    "num_faceA = len(glob(f\"{DIR_FACE_A}/*.*\"))\n",
    "num_faceB = len(glob(f\"{DIR_FACE_B}/*.*\"))\n",
    "\n",
    "print(\"Nuber of processed images: \" + str(num_faceA + num_faceB))\n",
    "print(\"Number of image(s) with no face detected: \" + str(len(fns_face_not_detected)))"
   ]
  },
  {
   "cell_type": "markdown",
   "metadata": {
    "colab_type": "text",
    "id": "uRKzF42Wy0Ba"
   },
   "source": [
    "# Случайно показываем лицо и двоичную маску"
   ]
  },
  {
   "cell_type": "code",
   "execution_count": null,
   "metadata": {
    "colab": {
     "autoexec": {
      "startup": false,
      "wait_interval": 0
     },
     "base_uri": "https://localhost:8080/",
     "height": 316
    },
    "colab_type": "code",
    "executionInfo": {
     "elapsed": 1080,
     "status": "ok",
     "timestamp": 1529139911130,
     "user": {
      "displayName": "Lu SA",
      "photoUrl": "https://lh3.googleusercontent.com/a/default-user=s128",
      "userId": "109275333798683015269"
     },
     "user_tz": -480
    },
    "id": "Ja4aOHNay0HH",
    "outputId": "c6e1b3d4-d427-4267-a33b-efc8882373e3"
   },
   "outputs": [],
   "source": [
    "face = np.random.choice([\"A\", \"B\"])\n",
    "\n",
    "dir_face = DIR_FACE_A if face == \"A\" else DIR_FACE_B\n",
    "fns_face = FNS_FACE_A if face == \"A\" else FNS_FACE_B\n",
    "num_face = len(glob(dir_face + \"/*.*\"))\n",
    "rand_idx = np.random.randint(num_face)\n",
    "rand_fn = fns_face[rand_idx]\n",
    "raw_fn = PurePath(rand_fn).parts[-1]\n",
    "mask_fn = f\"{DIR_BM_FACE_A_EYES}/{raw_fn}\" if face == \"A\" else f\"{DIR_BM_FACE_B_EYES}/{raw_fn}\"\n",
    "resize_shape = (256, 256)\n",
    "\n",
    "im = cv2.imread(rand_fn)\n",
    "mask = cv2.imread(mask_fn)\n",
    "\n",
    "# im = cv2.resize(im, resize_shape)\n",
    "# mask = cv2.resize(mask, resize_shape)\n",
    "\n",
    "if rand_fn in fns_face_not_detected:\n",
    "    print(\"========== На этом изображении не было обнаружено никаких лиц! ==========\")\n",
    "\n",
    "fig = plt.figure(figsize=(15, 6))\n",
    "plt.subplot(1, 3, 1)\n",
    "plt.grid('off')\n",
    "plt.imshow(im)\n",
    "plt.subplot(1, 3, 2)\n",
    "plt.grid('off')\n",
    "plt.imshow(mask)\n",
    "plt.subplot(1, 3, 3)\n",
    "plt.grid('off')\n",
    "plt.imshow((mask / 255 * im).astype(np.uint8))"
   ]
  },
  {
   "cell_type": "markdown",
   "metadata": {
    "colab_type": "text",
    "id": "X6c22xxGsVQR"
   },
   "source": [
    "# Случайно отображать изображения, на котором не обнаружено лица."
   ]
  },
  {
   "cell_type": "code",
   "execution_count": null,
   "metadata": {
    "colab": {
     "autoexec": {
      "startup": false,
      "wait_interval": 0
     },
     "base_uri": "https://localhost:8080/",
     "height": 287
    },
    "colab_type": "code",
    "executionInfo": {
     "elapsed": 697,
     "status": "ok",
     "timestamp": 1529139782680,
     "user": {
      "displayName": "Lu SA",
      "photoUrl": "https://lh3.googleusercontent.com/a/default-user=s128",
      "userId": "109275333798683015269"
     },
     "user_tz": -480
    },
    "id": "aAgOLJ_WowlK",
    "outputId": "00138071-ab9e-4c91-aeb6-67d253c81cf5",
    "pycharm": {
     "name": "#%%\n"
    }
   },
   "outputs": [],
   "source": [
    "num_no_face_img = len(fns_face_not_detected)\n",
    "rand_idx = np.random.randint(num_no_face_img)\n",
    "x = plt.imread(fns_face_not_detected[rand_idx])\n",
    "plt.grid('off')\n",
    "plt.imshow(x)"
   ]
  }
 ],
 "metadata": {
  "accelerator": "GPU",
  "colab": {
   "collapsed_sections": [],
   "default_view": {},
   "name": "make_binary_masks.ipynb",
   "provenance": [],
   "version": "0.3.2",
   "views": {}
  },
  "kernelspec": {
   "display_name": "Python 3 (ipykernel)",
   "language": "python",
   "name": "python3"
  },
  "language_info": {
   "codemirror_mode": {
    "name": "ipython",
    "version": 3
   },
   "file_extension": ".py",
   "mimetype": "text/x-python",
   "name": "python",
   "nbconvert_exporter": "python",
   "pygments_lexer": "ipython3",
   "version": "3.6.13"
  }
 },
 "nbformat": 4,
 "nbformat_minor": 1
}